{
 "cells": [
  {
   "cell_type": "markdown",
   "id": "324720d8-a2d4-4d2f-8ce9-c20be734a5ee",
   "metadata": {},
   "source": [
    "EX1"
   ]
  },
  {
   "cell_type": "code",
   "execution_count": 19,
   "id": "df071313-a609-496e-91a1-e11f77a97f76",
   "metadata": {},
   "outputs": [
    {
     "name": "stdout",
     "output_type": "stream",
     "text": [
      "L1 [2, 4, 6, 8, 10, 12, 14, 16]\n",
      "l2 [2, 4, 6, 8, 10, 12, 14, 16]\n",
      "L3 [9, 7, 5, 3, 1]\n",
      "L4 [3.0, 2.6457513110645907, 2.23606797749979, 1.7320508075688772, 1.0]\n",
      "L5 [0.0, 0.17364817766693033, 0.3420201433256687, 0.49999999999999994, 0.6427876096865393, 0.766044443118978, 0.8660254037844386, 0.9396926207859083, 0.984807753012208, 1.0]\n"
     ]
    }
   ],
   "source": [
    "import math\n",
    "L1 = [i for i in range(0, 20, 2)]\n",
    "print(\"L1\",L2)\n",
    "L2 = L1[1:-1]\n",
    "print(\"l2\",L2)\n",
    "L3 = [i for i in range(9, 0, -2)]\n",
    "print(\"L3\",L3)\n",
    "L4 = [math.sqrt(i) for i in range(9, 0, -2)]\n",
    "print(\"L4\",L4)\n",
    "L5 = [math.sin(math.radians(i)) for i in range(0, 91, 10)]\n",
    "print(\"L5\",L5)"
   ]
  },
  {
   "cell_type": "markdown",
   "id": "be68a3b6-e87a-48f5-8a0b-03fc397b1732",
   "metadata": {},
   "source": [
    "EX2"
   ]
  },
  {
   "cell_type": "code",
   "execution_count": 35,
   "id": "b2995134-be62-465c-a25c-b7906e906c79",
   "metadata": {},
   "outputs": [
    {
     "name": "stdout",
     "output_type": "stream",
     "text": [
      "32\n"
     ]
    }
   ],
   "source": [
    "def scalaire(L1, L2):\n",
    "    if len(L1) != len(L2):\n",
    "        return \"Erreur\"\n",
    "    else:\n",
    "        return sum(L1[i] * L2[i] for i in range(len(L1)))\n",
    "L1 = [1, 2, 3]\n",
    "L2 = [4, 5, 6]\n",
    "r = scalaire(L1, L2)\n",
    "print(r)"
   ]
  },
  {
   "cell_type": "markdown",
   "id": "c47bda98-6516-4bd7-a05a-9441670125a6",
   "metadata": {},
   "source": [
    "EX3"
   ]
  },
  {
   "cell_type": "code",
   "execution_count": 48,
   "id": "fc8ce68a-a093-493f-ab5b-522df7596f65",
   "metadata": {},
   "outputs": [
    {
     "name": "stdout",
     "output_type": "stream",
     "text": [
      "[3, 4, 6, 7, 8, 9, 11, 12, 13, 14, 17, 18, 19]\n"
     ]
    }
   ],
   "source": [
    "def NonPresents(V):\n",
    "    return [i for i in range(20) if i not in V]\n",
    "print(NonPresents([0, 1, 2, 5, 10, 15, 16]))"
   ]
  },
  {
   "cell_type": "markdown",
   "id": "60469bb6-cc60-41e6-911b-942e7a47a559",
   "metadata": {},
   "source": [
    "EX4"
   ]
  },
  {
   "cell_type": "markdown",
   "id": "06c70c19-adb3-4d35-940c-487426a2a512",
   "metadata": {},
   "source": [
    "1) Maxi(L): retourne l'élément ayant la plus grande valeur dans la liste des nombres L ainsi que son indice"
   ]
  },
  {
   "cell_type": "code",
   "execution_count": 65,
   "id": "d414ae86-adb8-4adb-ae80-93398991d8be",
   "metadata": {},
   "outputs": [
    {
     "name": "stdout",
     "output_type": "stream",
     "text": [
      "(9, 3)\n"
     ]
    }
   ],
   "source": [
    "def Maxi(L):\n",
    "    return max(L), L.index(max(L))\n",
    "print(Maxi([3, 7, 2, 9, 5]))"
   ]
  },
  {
   "cell_type": "markdown",
   "id": "8d9ac0ad-944a-4e16-b3f5-7c60f1c2226d",
   "metadata": {},
   "source": [
    "2) Mini(L): retourne l'élément ayant la plus petite valeur dans la liste des nombres L ainsi que son indice"
   ]
  },
  {
   "cell_type": "code",
   "execution_count": 74,
   "id": "6c562dad-1f7f-4b82-af25-326ab9691e1a",
   "metadata": {},
   "outputs": [
    {
     "name": "stdout",
     "output_type": "stream",
     "text": [
      "(2, 2)\n"
     ]
    }
   ],
   "source": [
    "def Mini(L):\n",
    "    return min(L), L.index(min(L))\n",
    "print(Mini([3, 7, 2, 9, 5]))"
   ]
  },
  {
   "cell_type": "markdown",
   "id": "e2065128-a6e8-4933-b2e4-02bcddb402c5",
   "metadata": {},
   "source": [
    "3) ocurences(x, L) : retourne le nombre de fois que l’élément x apparaît dans la liste L."
   ]
  },
  {
   "cell_type": "code",
   "execution_count": 132,
   "id": "73345e73-4121-4db5-9cd0-dc042cb4bcd8",
   "metadata": {},
   "outputs": [
    {
     "name": "stdout",
     "output_type": "stream",
     "text": [
      "4\n"
     ]
    }
   ],
   "source": [
    "def ocurences(x, L):\n",
    "    return L.count(x)\n",
    "L = [3, 4, 3, 2, 3, 5, 3]\n",
    "x = 3\n",
    "print(ocurences(x, L))"
   ]
  },
  {
   "cell_type": "markdown",
   "id": "bc28c56d-3595-4303-952f-99499c865fdc",
   "metadata": {},
   "source": [
    "4) eliminer(x, L) : retourne une liste constituée des éléments de L sauf la première occurrence de x, sans\n",
    "modifier la liste L."
   ]
  },
  {
   "cell_type": "code",
   "execution_count": 6,
   "id": "b61c8835-9a3b-4372-b6b3-566938725ab7",
   "metadata": {},
   "outputs": [
    {
     "data": {
      "text/plain": [
       "[1, 2, 4]"
      ]
     },
     "execution_count": 6,
     "metadata": {},
     "output_type": "execute_result"
    }
   ],
   "source": [
    "def eliminer(x, L):\n",
    "    new = L.copy()\n",
    "    if x in new:\n",
    "        new.remove(x)\n",
    "    return new\n",
    "eliminer(4,[1,4,2,4])"
   ]
  },
  {
   "cell_type": "markdown",
   "id": "891e346f-f6fc-41d5-b601-04b4e130a8eb",
   "metadata": {},
   "source": [
    "EX5"
   ]
  },
  {
   "cell_type": "code",
   "execution_count": 10,
   "id": "ed7b9725-72ad-4323-a864-2a83e9fd01cd",
   "metadata": {},
   "outputs": [
    {
     "name": "stdout",
     "output_type": "stream",
     "text": [
      "4\n",
      "1\n",
      "2\n",
      "3\n",
      "4\n",
      "4\n",
      "3\n",
      "2\n",
      "1\n"
     ]
    }
   ],
   "source": [
    "def Taille(L):\n",
    "    return 0 if not L else 1 + Taille(L[1:])\n",
    "\n",
    "def Affiche(L):\n",
    "    if L:\n",
    "        print(L[0])\n",
    "        Affiche(L[1:])\n",
    "\n",
    "def AfficheInv(L):\n",
    "    if L:\n",
    "        AfficheInv(L[1:])\n",
    "        print(L[0])\n",
    "L = [1, 2, 3, 4]\n",
    "print(Taille(L))  \n",
    "Affiche(L)  \n",
    "AfficheInv(L)  "
   ]
  },
  {
   "cell_type": "markdown",
   "id": "fd49a246-3a30-4980-a448-f9d9ec29dfa5",
   "metadata": {},
   "source": [
    "EX6"
   ]
  },
  {
   "cell_type": "code",
   "execution_count": 15,
   "id": "fe4f49c1-43c6-4389-883e-2c73996c898d",
   "metadata": {},
   "outputs": [
    {
     "data": {
      "text/plain": [
       "['Janvier',\n",
       " 31,\n",
       " 'Févier',\n",
       " 28,\n",
       " 'Mars',\n",
       " 31,\n",
       " 'Avril',\n",
       " 30,\n",
       " 'Mai',\n",
       " 31,\n",
       " 'Juin',\n",
       " 30,\n",
       " 'Juillet',\n",
       " 31,\n",
       " 'Aout',\n",
       " 31,\n",
       " 'Septembre',\n",
       " 30,\n",
       " 'Novembre',\n",
       " 31,\n",
       " 'Décembre',\n",
       " 30,\n",
       " 31]"
      ]
     },
     "execution_count": 15,
     "metadata": {},
     "output_type": "execute_result"
    }
   ],
   "source": [
    "def inserer(J,M):\n",
    "    i=1\n",
    "    for e in J:\n",
    "        M.insert(i,e)\n",
    "        i=i+2\n",
    "        \n",
    "    return M\n",
    "inserer([31,28,31,30,31,30,31,31,30,31,30,31],['Janvier','Févier','Mars','Avril','Mai','Juin','Juillet','Aout','Septembre','Novembre','Décembre'])"
   ]
  },
  {
   "cell_type": "markdown",
   "id": "c16314b6-c4ba-4df4-95aa-4534e905a188",
   "metadata": {},
   "source": [
    "EX7"
   ]
  },
  {
   "cell_type": "code",
   "execution_count": 18,
   "id": "9819ad27-9877-46e2-8119-4389f42de7e3",
   "metadata": {},
   "outputs": [
    {
     "name": "stdout",
     "output_type": "stream",
     "text": [
      "117\n",
      "[3, 1, -3, 0, 0, 4]\n",
      "[2, 1, -6, -3, 0, 8, 4, 0, 0, 0, 0]\n"
     ]
    }
   ],
   "source": [
    "def evaluer(L, a):\n",
    "    return sum(coef * (a ** i) for i, coef in enumerate(L))\n",
    "def somme(L1, L2):\n",
    "    taille_max = max(len(L1), len(L2))\n",
    "    L1 += [0] * (taille_max - len(L1))\n",
    "    L2 += [0] * (taille_max - len(L2))\n",
    "    return [L1[i] + L2[i] for i in range(taille_max)]\n",
    "def produit(L1, L2):\n",
    "    result = [0] * (len(L1) + len(L2) - 1)\n",
    "    for i in range(len(L1)):\n",
    "        for j in range(len(L2)):\n",
    "            result[i + j] += L1[i] * L2[j]\n",
    "    return result\n",
    "L1 = [1, 0, -3, 0, 0, 4] \n",
    "L2 = [2, 1] \n",
    "print(evaluer(L1, 2))  \n",
    "print(somme(L1, L2))  \n",
    "print(produit(L1, L2))  "
   ]
  },
  {
   "cell_type": "code",
   "execution_count": null,
   "id": "1c6aff07-f94b-4dbb-a84b-6215cdbc649a",
   "metadata": {},
   "outputs": [],
   "source": []
  }
 ],
 "metadata": {
  "kernelspec": {
   "display_name": "Python [conda env:base] *",
   "language": "python",
   "name": "conda-base-py"
  },
  "language_info": {
   "codemirror_mode": {
    "name": "ipython",
    "version": 3
   },
   "file_extension": ".py",
   "mimetype": "text/x-python",
   "name": "python",
   "nbconvert_exporter": "python",
   "pygments_lexer": "ipython3",
   "version": "3.12.7"
  }
 },
 "nbformat": 4,
 "nbformat_minor": 5
}
