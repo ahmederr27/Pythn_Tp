{
 "cells": [
  {
   "cell_type": "code",
   "execution_count": 2,
   "id": "557d80dd-3a06-4eda-a254-2e7fc9063174",
   "metadata": {},
   "outputs": [
    {
     "name": "stdout",
     "output_type": "stream",
     "text": [
      "x= 2\n",
      "x= 17\n",
      "x= 2\n",
      "x= 2\n",
      "x= 5\n",
      "x= 5\n"
     ]
    }
   ],
   "source": [
    "#EX1\n",
    "def f(x) :\n",
    "    x=(x+3) %6\n",
    "    print (\"x=\", x)\n",
    "def g() :\n",
    "    global x\n",
    "    x=(x+3) %6\n",
    "    print (\"x=\",x)\n",
    "def h(x) :\n",
    "    x=(x+3) %6\n",
    "    print (\"x=\", x)\n",
    "    return x\n",
    "\n",
    "x =17\n",
    "f(x)\n",
    "print (\"x=\", x)\n",
    "g()\n",
    "print (\"x=\", x)\n",
    "x = h(x)\n",
    "print (\"x=\", x)"
   ]
  },
  {
   "cell_type": "code",
   "execution_count": 4,
   "id": "427fe16c-172a-4cc0-bc81-1f3331a31151",
   "metadata": {},
   "outputs": [
    {
     "name": "stdout",
     "output_type": "stream",
     "text": [
      "le minimum est : 5\n",
      "entrer les quatres nombres\n"
     ]
    },
    {
     "name": "stdin",
     "output_type": "stream",
     "text": [
      "entrer  n1 12\n",
      "entrer  n2 11\n",
      "entrer  n3 5\n",
      "entrer  n4 18\n"
     ]
    },
    {
     "name": "stdout",
     "output_type": "stream",
     "text": [
      "le minimum est: 5\n"
     ]
    }
   ],
   "source": [
    "#EX2\n",
    "mini=lambda a,b: a if a<b else b\n",
    "print(\"le minimum est :\",mini(8,5))\n",
    "print(\"entrer les quatres nombres\")\n",
    "n1=int(input(\"entrer  n1\"))\n",
    "n2=int(input(\"entrer  n2\"))\n",
    "n3=int(input(\"entrer  n3\"))\n",
    "n4=int(input(\"entrer  n4\"))\n",
    "def minimum(n1,n2,n3,n4):\n",
    "    min_n=mini(mini(n1,n2),mini(n3,n4))\n",
    "    print(\"le minimum est:\",min_n)\n",
    "minimum(n1,n2,n3,n4)"
   ]
  },
  {
   "cell_type": "code",
   "execution_count": 6,
   "id": "c11c5077-d5f1-4203-a81f-7115423f592d",
   "metadata": {},
   "outputs": [
    {
     "name": "stdout",
     "output_type": "stream",
     "text": [
      "a=  9 est b=  5\n"
     ]
    }
   ],
   "source": [
    "#EX3\n",
    "a=5\n",
    "b=9\n",
    "def permute():\n",
    "    global a,b\n",
    "    a,b=b,a\n",
    "permute()\n",
    "print(\"a= \",a,\"est b= \",b)"
   ]
  },
  {
   "cell_type": "code",
   "execution_count": 8,
   "id": "796bdfbb-e5d4-4bce-be76-09f009d31c6c",
   "metadata": {},
   "outputs": [
    {
     "name": "stdin",
     "output_type": "stream",
     "text": [
      "Enter un nombre 12\n"
     ]
    },
    {
     "name": "stdout",
     "output_type": "stream",
     "text": [
      "n= 4\n"
     ]
    }
   ],
   "source": [
    "#EX4\n",
    "def logarithme(a):\n",
    "    n=0\n",
    "    while 2**n<=a:\n",
    "        n=n+1\n",
    "    return n\n",
    "x=int(input(\"Enter un nombre\"))\n",
    "print(\"n=\",logarithme(x))\n",
    "        "
   ]
  },
  {
   "cell_type": "code",
   "execution_count": 10,
   "id": "8389586a-0167-458b-9030-f2b3a762ec2b",
   "metadata": {},
   "outputs": [
    {
     "name": "stdout",
     "output_type": "stream",
     "text": [
      "ping\n",
      "pong\n",
      "ping\n",
      "pong\n",
      "ping\n",
      "pong\n",
      "ping\n",
      "pong\n",
      "ping\n",
      "pong\n"
     ]
    }
   ],
   "source": [
    "#EX5\n",
    "N=5\n",
    "compt=0\n",
    "def ping():\n",
    "    global N,compt\n",
    "    if compt<2*N:\n",
    "        print(\"ping\")\n",
    "        compt+=1\n",
    "        pong()\n",
    "def pong():\n",
    "    global N,compt\n",
    "    if compt<2*N:\n",
    "        print(\"pong\")\n",
    "        compt+=1\n",
    "        ping()\n",
    "ping()"
   ]
  },
  {
   "cell_type": "code",
   "execution_count": 14,
   "id": "29a161ad-1f03-423d-a668-4c95b49056b1",
   "metadata": {},
   "outputs": [
    {
     "data": {
      "text/plain": [
       "True"
      ]
     },
     "execution_count": 14,
     "metadata": {},
     "output_type": "execute_result"
    }
   ],
   "source": [
    "#EX6\n",
    "def nbChiffres(N):\n",
    "    nb=len(str(N))\n",
    "    return nb\n",
    "nbChiffres(154)\n",
    "def puissance(x,n):\n",
    "    pui=x**n\n",
    "    return pui\n",
    "puissance(4,2)\n",
    "def amstrang(N):\n",
    "    if N<=0:\n",
    "       return False\n",
    "    s=0\n",
    "    p=nbChiffres(N)\n",
    "    for i in str(N):\n",
    "        s=s+puissance(int(i),p)\n",
    "    return s==N    \n",
    "\n",
    "amstrang(93084)"
   ]
  },
  {
   "cell_type": "code",
   "execution_count": 16,
   "id": "3130986e-49e0-4d26-b6f0-46d026be491c",
   "metadata": {},
   "outputs": [
    {
     "data": {
      "text/plain": [
       "2"
      ]
     },
     "execution_count": 16,
     "metadata": {},
     "output_type": "execute_result"
    }
   ],
   "source": [
    "#EX7\n",
    "def pgcd(a, b):\n",
    "    if a < b:\n",
    "        a, b = b, a  \n",
    "    while b != 0:\n",
    "        reste = a % b\n",
    "        a = b\n",
    "        b = reste\n",
    "    \n",
    "    return a\n",
    "pgcd(2,4)"
   ]
  }
 ],
 "metadata": {
  "kernelspec": {
   "display_name": "Python [conda env:base] *",
   "language": "python",
   "name": "conda-base-py"
  },
  "language_info": {
   "codemirror_mode": {
    "name": "ipython",
    "version": 3
   },
   "file_extension": ".py",
   "mimetype": "text/x-python",
   "name": "python",
   "nbconvert_exporter": "python",
   "pygments_lexer": "ipython3",
   "version": "3.12.7"
  }
 },
 "nbformat": 4,
 "nbformat_minor": 5
}
