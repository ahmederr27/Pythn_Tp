{
 "cells": [
  {
   "cell_type": "code",
   "execution_count": 1,
   "id": "df70ac8e-bf5a-48d2-b5ee-40813f812ce2",
   "metadata": {},
   "outputs": [
    {
     "name": "stdin",
     "output_type": "stream",
     "text": [
      "donner un entier 1\n"
     ]
    },
    {
     "name": "stdout",
     "output_type": "stream",
     "text": [
      "la somme est:  1\n"
     ]
    }
   ],
   "source": [
    "#EX1\n",
    "n=int(input(\"donner un entier\"))\n",
    "s=0\n",
    "for i in range(1,n+1):\n",
    "    s=s+i\n",
    "print(\"la somme est: \",s)"
   ]
  },
  {
   "cell_type": "code",
   "execution_count": 3,
   "id": "3ed15645-e80b-45e4-8538-9f49e86feb81",
   "metadata": {},
   "outputs": [
    {
     "name": "stdin",
     "output_type": "stream",
     "text": [
      "donner un nombre entier 3\n",
      "donner un nombre entier different de 0: 3\n"
     ]
    },
    {
     "name": "stdout",
     "output_type": "stream",
     "text": [
      "l'inverse de 3 est : 0.3333333333333333\n"
     ]
    }
   ],
   "source": [
    "#EX2\n",
    "n=int(input(\"donner un nombre entier\"))\n",
    "n=0\n",
    "while (n==0):\n",
    "      n=int(input(\"donner un nombre entier different de 0:\"))\n",
    "invers=1/n\n",
    "print(f\"l'inverse de {n} est : {invers}\")"
   ]
  },
  {
   "cell_type": "code",
   "execution_count": 5,
   "id": "00407feb-07c2-4f57-9030-45d289177430",
   "metadata": {},
   "outputs": [
    {
     "name": "stdin",
     "output_type": "stream",
     "text": [
      "donner le nombre d'étudiants 4\n",
      "entrer la note d'etudiant 1: 2\n",
      "entrer la note d'etudiant 2: 12\n",
      "entrer la note d'etudiant 3: 7\n",
      "entrer la note d'etudiant 4: 19\n"
     ]
    },
    {
     "name": "stdout",
     "output_type": "stream",
     "text": [
      "la moyenne est :10.00\n"
     ]
    }
   ],
   "source": [
    "#EX3\n",
    "N=int(input(\"donner le nombre d'étudiants\"))\n",
    "t_note=0\n",
    "for i in range(1,N+1):\n",
    "    note=float(input(f\"entrer la note d'etudiant {i}:\"))\n",
    "    t_note=t_note+note\n",
    "moy=t_note/N\n",
    "print(f\"la moyenne est :{moy:.2f}\")"
   ]
  },
  {
   "cell_type": "code",
   "execution_count": 7,
   "id": "b06b474a-f6e9-4245-a7fa-c7b5e71c534c",
   "metadata": {},
   "outputs": [
    {
     "name": "stdin",
     "output_type": "stream",
     "text": [
      "enter un nbr entier 4\n",
      "enter un autre nbr entier 4\n"
     ]
    },
    {
     "name": "stdout",
     "output_type": "stream",
     "text": [
      "le produit de 4 et 4 avec l'addition est :16\n"
     ]
    }
   ],
   "source": [
    "#EX4\n",
    "a=int(input(\"enter un nbr entier\"))\n",
    "b=int(input(\"enter un autre nbr entier\"))\n",
    "s=0\n",
    "for i in range(b):\n",
    "    s=s+a\n",
    "print(f\"le produit de {a} et {b} avec l'addition est :{s}\")"
   ]
  },
  {
   "cell_type": "code",
   "execution_count": 9,
   "id": "55597c58-6e80-4785-9153-71434a1e7a76",
   "metadata": {},
   "outputs": [
    {
     "name": "stdin",
     "output_type": "stream",
     "text": [
      "saisir un entier 4\n"
     ]
    },
    {
     "name": "stdout",
     "output_type": "stream",
     "text": [
      "les diviseurs de {n} sont :\n",
      "1 2 4 "
     ]
    }
   ],
   "source": [
    "#EX5\n",
    "n=int(input(\"saisir un entier\"))\n",
    "print(\"les diviseurs de {n} sont :\")\n",
    "for i in range(1,n+1):\n",
    "    if(n%i==0):\n",
    "        print(i,end=\" \")"
   ]
  },
  {
   "cell_type": "code",
   "execution_count": 11,
   "id": "c986cdcb-9a4d-4801-be5c-f37785b6ba9c",
   "metadata": {},
   "outputs": [
    {
     "name": "stdin",
     "output_type": "stream",
     "text": [
      "entrer un nombre entier  5\n"
     ]
    },
    {
     "name": "stdout",
     "output_type": "stream",
     "text": [
      "5*1=5\n",
      "5*2=10\n",
      "5*3=15\n",
      "5*4=20\n",
      "5*5=25\n",
      "5*6=30\n",
      "5*7=35\n",
      "5*8=40\n",
      "5*9=45\n",
      "5*10=50\n"
     ]
    }
   ],
   "source": [
    "#EX6\n",
    "n=int(input(\"entrer un nombre entier \"))\n",
    "for i in range (1,11):\n",
    "    multp=n*i \n",
    "    print(f\"{n}*{i}={multp}\")"
   ]
  },
  {
   "cell_type": "code",
   "execution_count": 13,
   "id": "6c018f79-beab-4b3f-85c9-9ac8f75789fb",
   "metadata": {},
   "outputs": [
    {
     "name": "stdout",
     "output_type": "stream",
     "text": [
      "1 2 3 4 5 6 7 8 9 10 \n",
      "2 4 6 8 10 12 14 16 18 20 \n",
      "3 6 9 12 15 18 21 24 27 30 \n",
      "4 8 12 16 20 24 28 32 36 40 \n",
      "5 10 15 20 25 30 35 40 45 50 \n",
      "6 12 18 24 30 36 42 48 54 60 \n",
      "7 14 21 28 35 42 49 56 63 70 \n",
      "8 16 24 32 40 48 56 64 72 80 \n",
      "9 18 27 36 45 54 63 72 81 90 \n"
     ]
    }
   ],
   "source": [
    "#EX7\n",
    "for i in range (1,10):\n",
    "    for j in range (1,11):\n",
    "        print(i*j,end=\" \")\n",
    "    print()"
   ]
  },
  {
   "cell_type": "code",
   "execution_count": 33,
   "id": "261685e5-c721-42e1-b373-e507fb1c126a",
   "metadata": {},
   "outputs": [
    {
     "name": "stdin",
     "output_type": "stream",
     "text": [
      "enter le nbr 3\n"
     ]
    },
    {
     "name": "stdout",
     "output_type": "stream",
     "text": [
      "le nbr de chiffres est :  1\n"
     ]
    },
    {
     "name": "stdin",
     "output_type": "stream",
     "text": [
      "enter le nbr 4\n"
     ]
    },
    {
     "name": "stdout",
     "output_type": "stream",
     "text": [
      "le nombre de chiffres dans  4 est:  1\n"
     ]
    }
   ],
   "source": [
    "#EX8\n",
    "n=int(input(\"enter le nbr\"))\n",
    "if n>=0:\n",
    "    nb=len(str(n))\n",
    "    print(\"le nbr de chiffres est : \",nb)\n",
    "else:\n",
    "    print(\"donner un nobe positif\")\n",
    "n=int(input(\"enter le nbr\"))\n",
    "n1=n\n",
    "COMP=0\n",
    "while(n!=0):\n",
    "    n=n//10\n",
    "    COMP=COMP+1\n",
    "print(\"le nombre de chiffres dans \",n1,\"est: \",COMP)"
   ]
  },
  {
   "cell_type": "code",
   "execution_count": 37,
   "id": "836c95ea-f337-43b2-9cf7-407fe13b05b0",
   "metadata": {},
   "outputs": [
    {
     "name": "stdin",
     "output_type": "stream",
     "text": [
      "entrer un nombre entier positif 5\n"
     ]
    },
    {
     "name": "stdout",
     "output_type": "stream",
     "text": [
      "le convertit en binaire;\n",
      "101\n"
     ]
    },
    {
     "name": "stdin",
     "output_type": "stream",
     "text": [
      "entrer un nombre binaire 01110\n"
     ]
    },
    {
     "name": "stdout",
     "output_type": "stream",
     "text": [
      "14\n"
     ]
    }
   ],
   "source": [
    "#EX9\n",
    "n=int(input(\"entrer un nombre entier positif\"))\n",
    "print(\"le convertit en binaire;\")\n",
    "binaire=\"\"\n",
    "while(n!=0):\n",
    "    a=n%2\n",
    "    binaire=str(a)+binaire\n",
    "    n=n//2\n",
    "print(binaire)\n",
    "n=int(input(\"entrer un nombre binaire\"))\n",
    "i=0\n",
    "dcml=0\n",
    "st=str(n)\n",
    "st=st[::-1]\n",
    "while(n>0):\n",
    "    n=n//10\n",
    "    i=i+1\n",
    "for j in range(i):\n",
    "    dcml=dcml+(int(st[j])*(2**j))\n",
    "print(dcml)"
   ]
  },
  {
   "cell_type": "code",
   "execution_count": 41,
   "id": "500df16d-c8da-4378-9884-56593ae5facc",
   "metadata": {},
   "outputs": [
    {
     "name": "stdout",
     "output_type": "stream",
     "text": [
      "J'ai choisi un entier entre 1 et 50 A vous de le deviner en 5 tentatives au maximum !\n"
     ]
    },
    {
     "name": "stdin",
     "output_type": "stream",
     "text": [
      " Essai no 1 : 25\n"
     ]
    },
    {
     "name": "stdout",
     "output_type": "stream",
     "text": [
      "Trop petit\n"
     ]
    },
    {
     "name": "stdin",
     "output_type": "stream",
     "text": [
      " Essai no 2 : 30\n"
     ]
    },
    {
     "name": "stdout",
     "output_type": "stream",
     "text": [
      "Trop petit\n"
     ]
    },
    {
     "name": "stdin",
     "output_type": "stream",
     "text": [
      " Essai no 3 : 35\n"
     ]
    },
    {
     "name": "stdout",
     "output_type": "stream",
     "text": [
      "Trop petit\n"
     ]
    },
    {
     "name": "stdin",
     "output_type": "stream",
     "text": [
      " Essai no 4 : 40\n"
     ]
    },
    {
     "name": "stdout",
     "output_type": "stream",
     "text": [
      "Trop petit\n"
     ]
    },
    {
     "name": "stdin",
     "output_type": "stream",
     "text": [
      " Essai no 5 : 50\n"
     ]
    },
    {
     "name": "stdout",
     "output_type": "stream",
     "text": [
      "Trop grand\n",
      "Désolé, vous avez épuisé vos tentatives. Le nombre était 42.\n"
     ]
    }
   ],
   "source": [
    "#EX10\n",
    "import random\n",
    "monNombre = random.randint(1, 50)\n",
    "print(\"J'ai choisi un entier entre 1 et 50 A vous de le deviner en 5 tentatives au maximum !\")\n",
    "i=1\n",
    "n=-1\n",
    "while(i<=5):\n",
    "    n=int(input(f\" Essai no {i} :\"))\n",
    "    if(n<monNombre): \n",
    "          print(\"Trop petit\")\n",
    "    elif(n>monNombre):\n",
    "        print(\"Trop grand\")\n",
    "    else:\n",
    "        print(f\"Bravo ! Vous avez trouvé {n} en {i} essais\")\n",
    "        break\n",
    "    i=i+1\n",
    "    \n",
    "if n != monNombre:\n",
    "    print(f\"Désolé, vous avez épuisé vos tentatives. Le nombre était {monNombre}.\")  "
   ]
  }
 ],
 "metadata": {
  "kernelspec": {
   "display_name": "Python [conda env:base] *",
   "language": "python",
   "name": "conda-base-py"
  },
  "language_info": {
   "codemirror_mode": {
    "name": "ipython",
    "version": 3
   },
   "file_extension": ".py",
   "mimetype": "text/x-python",
   "name": "python",
   "nbconvert_exporter": "python",
   "pygments_lexer": "ipython3",
   "version": "3.12.7"
  }
 },
 "nbformat": 4,
 "nbformat_minor": 5
}
